{
 "cells": [
  {
   "cell_type": "code",
   "execution_count": 2,
   "metadata": {},
   "outputs": [],
   "source": [
    "from scipy.stats import ttest_ind, chi2_contingency\n",
    "import pandas as pd\n",
    "import numpy as np\n",
    "\n",
    "# Load the dataset for GLD\n",
    "data_gld = pd.read_csv('../dataset/cleaned_GLD.csv')\n",
    "\n",
    "# Convert Date to datetime for easier time-based splitting\n",
    "data_gld['Date'] = pd.to_datetime(data_gld['Date'])\n"
   ]
  },
  {
   "cell_type": "code",
   "execution_count": 3,
   "metadata": {},
   "outputs": [
    {
     "name": "stdout",
     "output_type": "stream",
     "text": [
      "T-test Results for GLD:\n",
      "T-statistic: -27.61580370509633\n",
      "P-value: 1.0287941974352259e-134\n"
     ]
    }
   ],
   "source": [
    "# Split the data into two time periods (before and after the midpoint date)\n",
    "midpoint_date_gld = data_gld['Date'].median()\n",
    "group1_gld = data_gld[data_gld['Date'] <= midpoint_date_gld]['Close']\n",
    "group2_gld = data_gld[data_gld['Date'] > midpoint_date_gld]['Close']\n",
    "\n",
    "# Perform t-test\n",
    "t_stat_gld, t_p_value_gld = ttest_ind(group1_gld, group2_gld, equal_var=False)\n",
    "\n",
    "# Display T-test results\n",
    "print(\"T-test Results for GLD:\")\n",
    "print(\"T-statistic:\", t_stat_gld)\n",
    "print(\"P-value:\", t_p_value_gld)\n"
   ]
  },
  {
   "cell_type": "code",
   "execution_count": 4,
   "metadata": {},
   "outputs": [
    {
     "name": "stdout",
     "output_type": "stream",
     "text": [
      "\n",
      "Chi-square Test Results for GLD:\n",
      "Chi-square Statistic: 732.4625749354674\n",
      "P-value: 4.694045253021661e-156\n"
     ]
    }
   ],
   "source": [
    "# Categorize 'Close' column based on median\n",
    "median_close_gld = data_gld['Close'].median()\n",
    "data_gld['Close_Category'] = np.where(data_gld['Close'] >= median_close_gld, 'High', 'Low')\n",
    "\n",
    "# Create a contingency table for chi-square test\n",
    "contingency_table_gld = pd.crosstab(data_gld['Date'].dt.year, data_gld['Close_Category'])\n",
    "chi2_stat_gld, chi2_p_value_gld, _, _ = chi2_contingency(contingency_table_gld)\n",
    "\n",
    "# Display Chi-square Test results\n",
    "print(\"\\nChi-square Test Results for GLD:\")\n",
    "print(\"Chi-square Statistic:\", chi2_stat_gld)\n",
    "print(\"P-value:\", chi2_p_value_gld)\n"
   ]
  },
  {
   "cell_type": "code",
   "execution_count": 5,
   "metadata": {},
   "outputs": [
    {
     "name": "stdout",
     "output_type": "stream",
     "text": [
      "95% Confidence Interval for the mean 'Close' value of GLD:\n",
      "Lower bound: 169.44788924200165\n",
      "Upper bound: 172.187151091694\n"
     ]
    }
   ],
   "source": [
    "import scipy.stats as stats\n",
    "\n",
    "# Calculate the mean and standard error of the 'Close' column\n",
    "mean_close_gld = data_gld['Close'].mean()\n",
    "std_error_gld = stats.sem(data_gld['Close'])\n",
    "\n",
    "# Calculate the 95% confidence interval\n",
    "confidence_interval_gld = stats.t.interval(0.95, len(data_gld['Close'])-1, loc=mean_close_gld, scale=std_error_gld)\n",
    "\n",
    "print(\"95% Confidence Interval for the mean 'Close' value of GLD:\")\n",
    "print(\"Lower bound:\", confidence_interval_gld[0])\n",
    "print(\"Upper bound:\", confidence_interval_gld[1])\n"
   ]
  },
  {
   "cell_type": "code",
   "execution_count": 6,
   "metadata": {},
   "outputs": [
    {
     "name": "stdout",
     "output_type": "stream",
     "text": [
      "T-test Results for GLD:\n",
      "T-statistic: -27.6158\n",
      "P-value: 1.0288e-134\n",
      "Interpretation: The p-value is below 0.05, indicating a statistically significant difference in 'Close' prices between the two periods.\n",
      "\n",
      "Chi-square Test Results for GLD:\n",
      "Chi-square Statistic: 732.4626\n",
      "P-value: 4.6940e-156\n",
      "Interpretation: The p-value is below 0.05, suggesting a statistically significant association between the years and high/low 'Close' categories.\n"
     ]
    }
   ],
   "source": [
    "# Display T-test results with interpretation\n",
    "print(\"T-test Results for GLD:\")\n",
    "print(f\"T-statistic: {t_stat_gld:.4f}\")\n",
    "print(f\"P-value: {t_p_value_gld:.4e}\")\n",
    "if t_p_value_gld < 0.05:\n",
    "    print(\"Interpretation: The p-value is below 0.05, indicating a statistically significant difference in 'Close' prices between the two periods.\\n\")\n",
    "else:\n",
    "    print(\"Interpretation: The p-value is above 0.05, indicating no statistically significant difference in 'Close' prices between the two periods.\\n\")\n",
    "\n",
    "# Display Chi-square test results with interpretation\n",
    "print(\"Chi-square Test Results for GLD:\")\n",
    "print(f\"Chi-square Statistic: {chi2_stat_gld:.4f}\")\n",
    "print(f\"P-value: {chi2_p_value_gld:.4e}\")\n",
    "if chi2_p_value_gld < 0.05:\n",
    "    print(\"Interpretation: The p-value is below 0.05, suggesting a statistically significant association between the years and high/low 'Close' categories.\")\n",
    "else:\n",
    "    print(\"Interpretation: The p-value is above 0.05, indicating no statistically significant association between the years and high/low 'Close' categories.\")\n"
   ]
  },
  {
   "cell_type": "code",
   "execution_count": null,
   "metadata": {},
   "outputs": [],
   "source": []
  }
 ],
 "metadata": {
  "kernelspec": {
   "display_name": "base",
   "language": "python",
   "name": "python3"
  },
  "language_info": {
   "codemirror_mode": {
    "name": "ipython",
    "version": 3
   },
   "file_extension": ".py",
   "mimetype": "text/x-python",
   "name": "python",
   "nbconvert_exporter": "python",
   "pygments_lexer": "ipython3",
   "version": "3.12.7"
  }
 },
 "nbformat": 4,
 "nbformat_minor": 2
}
