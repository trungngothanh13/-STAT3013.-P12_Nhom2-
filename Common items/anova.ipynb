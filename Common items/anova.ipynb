{
 "cells": [
  {
   "cell_type": "code",
   "execution_count": 5,
   "metadata": {},
   "outputs": [],
   "source": [
    "import pandas as pd\n",
    "from scipy.stats import f_oneway\n"
   ]
  },
  {
   "cell_type": "code",
   "execution_count": 6,
   "metadata": {},
   "outputs": [],
   "source": [
    "# Đọc dữ liệu từ các tệp\n",
    "file_gc = pd.read_csv('../dataset/cleaned_gc=f.csv')\n",
    "file_gld = pd.read_csv('../dataset/cleaned_GLD.csv')\n",
    "file_nem = pd.read_csv('../dataset/cleaned_NEM.csv')\n"
   ]
  },
  {
   "cell_type": "code",
   "execution_count": 7,
   "metadata": {},
   "outputs": [],
   "source": [
    "# Trích xuất cột 'Close' từ mỗi tệp\n",
    "close_gc = file_gc['Close']\n",
    "close_gld = file_gld['Close']\n",
    "close_nem = file_nem['Close']\n"
   ]
  },
  {
   "cell_type": "code",
   "execution_count": 9,
   "metadata": {},
   "outputs": [],
   "source": [
    "# Thực hiện phân tích ANOVA\n",
    "anova_result = f_oneway(close_gc, close_gld, close_nem)"
   ]
  },
  {
   "cell_type": "code",
   "execution_count": 10,
   "metadata": {},
   "outputs": [
    {
     "name": "stdout",
     "output_type": "stream",
     "text": [
      "F-statistic: 48867.946445416776\n",
      "p-value: 0.0\n"
     ]
    }
   ],
   "source": [
    "# In kết quả\n",
    "print(\"F-statistic:\", anova_result.statistic)\n",
    "print(\"p-value:\", anova_result.pvalue)\n"
   ]
  }
 ],
 "metadata": {
  "kernelspec": {
   "display_name": "base",
   "language": "python",
   "name": "python3"
  },
  "language_info": {
   "codemirror_mode": {
    "name": "ipython",
    "version": 3
   },
   "file_extension": ".py",
   "mimetype": "text/x-python",
   "name": "python",
   "nbconvert_exporter": "python",
   "pygments_lexer": "ipython3",
   "version": "3.12.7"
  }
 },
 "nbformat": 4,
 "nbformat_minor": 2
}
