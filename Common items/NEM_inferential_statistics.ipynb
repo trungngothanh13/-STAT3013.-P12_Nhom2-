{
 "cells": [
  {
   "cell_type": "code",
   "execution_count": 5,
   "metadata": {},
   "outputs": [],
   "source": [
    "from scipy.stats import ttest_ind, chi2_contingency, sem, t\n",
    "import pandas as pd\n",
    "import numpy as np\n",
    "\n",
    "# Load the dataset for NEM\n",
    "data_nem_updated = pd.read_csv('../dataset/cleaned_NEM.csv')\n",
    "\n",
    "# Convert Date to datetime for easier time-based splitting\n",
    "data_nem_updated['Date'] = pd.to_datetime(data_nem_updated['Date'])\n"
   ]
  },
  {
   "cell_type": "code",
   "execution_count": 6,
   "metadata": {},
   "outputs": [
    {
     "name": "stdout",
     "output_type": "stream",
     "text": [
      "T-test Results for Updated NEM:\n",
      "T-statistic: 4.934421992324489\n",
      "P-value: 8.960751351607861e-07\n"
     ]
    }
   ],
   "source": [
    "# Split the data into two time periods (before and after the midpoint date)\n",
    "midpoint_date_nem_updated = data_nem_updated['Date'].median()\n",
    "group1_nem_updated = data_nem_updated[data_nem_updated['Date'] <= midpoint_date_nem_updated]['Close']\n",
    "group2_nem_updated = data_nem_updated[data_nem_updated['Date'] > midpoint_date_nem_updated]['Close']\n",
    "\n",
    "# Perform t-test\n",
    "t_stat_nem_updated, t_p_value_nem_updated = ttest_ind(group1_nem_updated, group2_nem_updated, equal_var=False)\n",
    "\n",
    "# Display T-test results\n",
    "print(\"T-test Results for Updated NEM:\")\n",
    "print(\"T-statistic:\", t_stat_nem_updated)\n",
    "print(\"P-value:\", t_p_value_nem_updated)\n"
   ]
  },
  {
   "cell_type": "code",
   "execution_count": 7,
   "metadata": {},
   "outputs": [
    {
     "name": "stdout",
     "output_type": "stream",
     "text": [
      "\n",
      "Chi-square Test Results for Updated NEM:\n",
      "Chi-square Statistic: 693.821142717961\n",
      "P-value: 1.0646815471229962e-147\n"
     ]
    }
   ],
   "source": [
    "# Categorize 'Close' column based on median\n",
    "median_close_nem_updated = data_nem_updated['Close'].median()\n",
    "data_nem_updated['Close_Category'] = np.where(data_nem_updated['Close'] >= median_close_nem_updated, 'High', 'Low')\n",
    "\n",
    "# Create a contingency table for chi-square test\n",
    "contingency_table_nem_updated = pd.crosstab(data_nem_updated['Date'].dt.year, data_nem_updated['Close_Category'])\n",
    "chi2_stat_nem_updated, chi2_p_value_nem_updated, _, _ = chi2_contingency(contingency_table_nem_updated)\n",
    "\n",
    "# Display Chi-square Test results\n",
    "print(\"\\nChi-square Test Results for Updated NEM:\")\n",
    "print(\"Chi-square Statistic:\", chi2_stat_nem_updated)\n",
    "print(\"P-value:\", chi2_p_value_nem_updated)\n"
   ]
  },
  {
   "cell_type": "code",
   "execution_count": 8,
   "metadata": {},
   "outputs": [
    {
     "name": "stdout",
     "output_type": "stream",
     "text": [
      "95% Confidence Interval for the mean 'Close' value of Updated NEM:\n",
      "Lower bound: 49.325473975362605\n",
      "Upper bound: 50.55388726023522\n"
     ]
    }
   ],
   "source": [
    "# Calculate the mean and standard error of the 'Close' column\n",
    "mean_close_nem_updated = data_nem_updated['Close'].mean()\n",
    "std_error_nem_updated = sem(data_nem_updated['Close'])\n",
    "\n",
    "# Calculate the 95% confidence interval\n",
    "confidence_interval_nem_updated = t.interval(0.95, len(data_nem_updated['Close'])-1, loc=mean_close_nem_updated, scale=std_error_nem_updated)\n",
    "\n",
    "print(\"95% Confidence Interval for the mean 'Close' value of Updated NEM:\")\n",
    "print(\"Lower bound:\", confidence_interval_nem_updated[0])\n",
    "print(\"Upper bound:\", confidence_interval_nem_updated[1])\n"
   ]
  },
  {
   "cell_type": "code",
   "execution_count": 9,
   "metadata": {},
   "outputs": [
    {
     "name": "stdout",
     "output_type": "stream",
     "text": [
      "T-test Results for Updated NEM:\n",
      "T-statistic: 4.9344\n",
      "P-value: 8.9608e-07\n",
      "Interpretation: The p-value is below 0.05, indicating a statistically significant difference in 'Close' prices between the two periods.\n",
      "\n",
      "Chi-square Test Results for Updated NEM:\n",
      "Chi-square Statistic: 693.8211\n",
      "P-value: 1.0647e-147\n",
      "Interpretation: The p-value is below 0.05, suggesting a statistically significant association between the years and high/low 'Close' categories.\n"
     ]
    }
   ],
   "source": [
    "# Display T-test results with interpretation\n",
    "print(\"T-test Results for Updated NEM:\")\n",
    "print(f\"T-statistic: {t_stat_nem_updated:.4f}\")\n",
    "print(f\"P-value: {t_p_value_nem_updated:.4e}\")\n",
    "if t_p_value_nem_updated < 0.05:\n",
    "    print(\"Interpretation: The p-value is below 0.05, indicating a statistically significant difference in 'Close' prices between the two periods.\\n\")\n",
    "else:\n",
    "    print(\"Interpretation: The p-value is above 0.05, indicating no statistically significant difference in 'Close' prices between the two periods.\\n\")\n",
    "\n",
    "# Display Chi-square test results with interpretation\n",
    "print(\"Chi-square Test Results for Updated NEM:\")\n",
    "print(f\"Chi-square Statistic: {chi2_stat_nem_updated:.4f}\")\n",
    "print(f\"P-value: {chi2_p_value_nem_updated:.4e}\")\n",
    "if chi2_p_value_nem_updated < 0.05:\n",
    "    print(\"Interpretation: The p-value is below 0.05, suggesting a statistically significant association between the years and high/low 'Close' categories.\")\n",
    "else:\n",
    "    print(\"Interpretation: The p-value is above 0.05, indicating no statistically significant association between the years and high/low 'Close' categories.\")\n"
   ]
  },
  {
   "cell_type": "code",
   "execution_count": null,
   "metadata": {},
   "outputs": [],
   "source": []
  }
 ],
 "metadata": {
  "kernelspec": {
   "display_name": "base",
   "language": "python",
   "name": "python3"
  },
  "language_info": {
   "codemirror_mode": {
    "name": "ipython",
    "version": 3
   },
   "file_extension": ".py",
   "mimetype": "text/x-python",
   "name": "python",
   "nbconvert_exporter": "python",
   "pygments_lexer": "ipython3",
   "version": "3.12.7"
  }
 },
 "nbformat": 4,
 "nbformat_minor": 2
}
