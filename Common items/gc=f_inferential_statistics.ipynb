{
 "cells": [
  {
   "cell_type": "code",
   "execution_count": 1,
   "metadata": {},
   "outputs": [],
   "source": [
    "from scipy.stats import ttest_ind, chi2_contingency\n",
    "import pandas as pd\n",
    "import numpy as np\n",
    "\n",
    "# Load the dataset\n",
    "data = pd.read_csv('../dataset/cleaned_gc=f.csv')\n",
    "\n",
    "# Convert Date to datetime for easier time-based splitting\n",
    "data['Date'] = pd.to_datetime(data['Date'])\n"
   ]
  },
  {
   "cell_type": "code",
   "execution_count": 2,
   "metadata": {},
   "outputs": [
    {
     "name": "stdout",
     "output_type": "stream",
     "text": [
      "T-test results:\n",
      "T-statistic: -28.68838541439653\n",
      "P-value: 5.292532739650546e-143\n"
     ]
    }
   ],
   "source": [
    "# Split the data into two time periods (before and after the midpoint date)\n",
    "midpoint_date = data['Date'].median()\n",
    "group1 = data[data['Date'] <= midpoint_date]['Close']\n",
    "group2 = data[data['Date'] > midpoint_date]['Close']\n",
    "\n",
    "# Perform t-test\n",
    "t_stat, t_p_value = ttest_ind(group1, group2, equal_var=False)\n",
    "\n",
    "# Display T-test results\n",
    "print(\"T-test results:\")\n",
    "print(\"T-statistic:\", t_stat)\n",
    "print(\"P-value:\", t_p_value)\n"
   ]
  },
  {
   "cell_type": "code",
   "execution_count": 3,
   "metadata": {},
   "outputs": [
    {
     "name": "stdout",
     "output_type": "stream",
     "text": [
      "\n",
      "Chi-square Test results:\n",
      "Chi-square Statistic: 754.0573606636257\n",
      "P-value: 1.0027130722526848e-160\n"
     ]
    }
   ],
   "source": [
    "# Categorize 'Close' column based on median\n",
    "median_close = data['Close'].median()\n",
    "data['Close_Category'] = np.where(data['Close'] >= median_close, 'High', 'Low')\n",
    "\n",
    "# Create a contingency table for chi-square test\n",
    "contingency_table = pd.crosstab(data['Date'].dt.year, data['Close_Category'])\n",
    "chi2_stat, chi2_p_value, _, _ = chi2_contingency(contingency_table)\n",
    "\n",
    "# Display Chi-square Test results\n",
    "print(\"\\nChi-square Test results:\")\n",
    "print(\"Chi-square Statistic:\", chi2_stat)\n",
    "print(\"P-value:\", chi2_p_value)\n"
   ]
  },
  {
   "cell_type": "code",
   "execution_count": 5,
   "metadata": {},
   "outputs": [
    {
     "name": "stdout",
     "output_type": "stream",
     "text": [
      "95% Confidence Interval for the mean 'Close' value:\n",
      "Lower bound: 1813.657888291672\n",
      "Upper bound: 1844.0643893088713\n"
     ]
    }
   ],
   "source": [
    "import scipy.stats as stats\n",
    "\n",
    "# Calculate the mean and standard error of the 'Close' column\n",
    "mean_close = data['Close'].mean()\n",
    "std_error = stats.sem(data['Close'])\n",
    "\n",
    "# Calculate the 95% confidence interval\n",
    "confidence_interval = stats.t.interval(0.95, len(data['Close'])-1, loc=mean_close, scale=std_error)\n",
    "\n",
    "print(\"95% Confidence Interval for the mean 'Close' value:\")\n",
    "print(\"Lower bound:\", confidence_interval[0])\n",
    "print(\"Upper bound:\", confidence_interval[1])\n"
   ]
  },
  {
   "cell_type": "code",
   "execution_count": 6,
   "metadata": {},
   "outputs": [
    {
     "name": "stdout",
     "output_type": "stream",
     "text": [
      "T-test Results:\n",
      "T-statistic: -28.6884\n",
      "P-value: 5.2925e-143\n",
      "Interpretation: The p-value is very small, suggesting a significant difference in 'Close' prices between the two periods.\n",
      "\n",
      "Chi-square Test Results:\n",
      "Chi-square Statistic: 754.0574\n",
      "P-value: 1.0027e-160\n",
      "Interpretation: The very low p-value suggests a significant association between the years and the high/low 'Close' categories.\n"
     ]
    }
   ],
   "source": [
    "# Import libraries (in case they're needed again)\n",
    "from scipy.stats import ttest_ind, chi2_contingency\n",
    "import numpy as np\n",
    "\n",
    "# Calculate midpoint date and split data\n",
    "midpoint_date = data['Date'].median()\n",
    "group1 = data[data['Date'] <= midpoint_date]['Close']\n",
    "group2 = data[data['Date'] > midpoint_date]['Close']\n",
    "\n",
    "# T-test\n",
    "t_stat, t_p_value = ttest_ind(group1, group2, equal_var=False)\n",
    "print(\"T-test Results:\")\n",
    "print(f\"T-statistic: {t_stat:.4f}\")\n",
    "print(f\"P-value: {t_p_value:.4e}\")\n",
    "print(\"Interpretation: The p-value is very small, suggesting a significant difference in 'Close' prices between the two periods.\\n\")\n",
    "\n",
    "# Chi-square test\n",
    "# Categorize 'Close' column\n",
    "median_close = data['Close'].median()\n",
    "data['Close_Category'] = np.where(data['Close'] >= median_close, 'High', 'Low')\n",
    "\n",
    "# Contingency table and Chi-square test\n",
    "contingency_table = pd.crosstab(data['Date'].dt.year, data['Close_Category'])\n",
    "chi2_stat, chi2_p_value, _, _ = chi2_contingency(contingency_table)\n",
    "\n",
    "print(\"Chi-square Test Results:\")\n",
    "print(f\"Chi-square Statistic: {chi2_stat:.4f}\")\n",
    "print(f\"P-value: {chi2_p_value:.4e}\")\n",
    "print(\"Interpretation: The very low p-value suggests a significant association between the years and the high/low 'Close' categories.\")\n"
   ]
  },
  {
   "cell_type": "code",
   "execution_count": null,
   "metadata": {},
   "outputs": [],
   "source": []
  }
 ],
 "metadata": {
  "kernelspec": {
   "display_name": "base",
   "language": "python",
   "name": "python3"
  },
  "language_info": {
   "codemirror_mode": {
    "name": "ipython",
    "version": 3
   },
   "file_extension": ".py",
   "mimetype": "text/x-python",
   "name": "python",
   "nbconvert_exporter": "python",
   "pygments_lexer": "ipython3",
   "version": "3.12.7"
  }
 },
 "nbformat": 4,
 "nbformat_minor": 2
}
