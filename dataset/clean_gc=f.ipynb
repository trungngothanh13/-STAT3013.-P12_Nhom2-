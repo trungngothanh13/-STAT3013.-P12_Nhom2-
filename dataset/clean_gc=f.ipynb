{
 "cells": [
  {
   "cell_type": "code",
   "execution_count": 1,
   "metadata": {},
   "outputs": [],
   "source": [
    "import pandas as pd"
   ]
  },
  {
   "cell_type": "code",
   "execution_count": null,
   "metadata": {},
   "outputs": [
    {
     "name": "stderr",
     "output_type": "stream",
     "text": [
      "[*********************100%***********************]  1 of 1 completed\n"
     ]
    },
    {
     "data": {
      "text/html": [
       "<div>\n",
       "<style scoped>\n",
       "    .dataframe tbody tr th:only-of-type {\n",
       "        vertical-align: middle;\n",
       "    }\n",
       "\n",
       "    .dataframe tbody tr th {\n",
       "        vertical-align: top;\n",
       "    }\n",
       "\n",
       "    .dataframe thead tr th {\n",
       "        text-align: left;\n",
       "    }\n",
       "\n",
       "    .dataframe thead tr:last-of-type th {\n",
       "        text-align: right;\n",
       "    }\n",
       "</style>\n",
       "<table border=\"1\" class=\"dataframe\">\n",
       "  <thead>\n",
       "    <tr>\n",
       "      <th>Price</th>\n",
       "      <th>Adj Close</th>\n",
       "      <th>Close</th>\n",
       "      <th>High</th>\n",
       "      <th>Low</th>\n",
       "      <th>Open</th>\n",
       "      <th>Volume</th>\n",
       "    </tr>\n",
       "    <tr>\n",
       "      <th>Ticker</th>\n",
       "      <th>GC=F</th>\n",
       "      <th>GC=F</th>\n",
       "      <th>GC=F</th>\n",
       "      <th>GC=F</th>\n",
       "      <th>GC=F</th>\n",
       "      <th>GC=F</th>\n",
       "    </tr>\n",
       "    <tr>\n",
       "      <th>Date</th>\n",
       "      <th></th>\n",
       "      <th></th>\n",
       "      <th></th>\n",
       "      <th></th>\n",
       "      <th></th>\n",
       "      <th></th>\n",
       "    </tr>\n",
       "  </thead>\n",
       "  <tbody>\n",
       "    <tr>\n",
       "      <th>2019-01-02 00:00:00+00:00</th>\n",
       "      <td>1281.000000</td>\n",
       "      <td>1281.000000</td>\n",
       "      <td>1286.000000</td>\n",
       "      <td>1277.599976</td>\n",
       "      <td>1286.000000</td>\n",
       "      <td>149</td>\n",
       "    </tr>\n",
       "    <tr>\n",
       "      <th>2019-01-03 00:00:00+00:00</th>\n",
       "      <td>1291.800049</td>\n",
       "      <td>1291.800049</td>\n",
       "      <td>1292.000000</td>\n",
       "      <td>1286.699951</td>\n",
       "      <td>1286.800049</td>\n",
       "      <td>10</td>\n",
       "    </tr>\n",
       "    <tr>\n",
       "      <th>2019-01-04 00:00:00+00:00</th>\n",
       "      <td>1282.699951</td>\n",
       "      <td>1282.699951</td>\n",
       "      <td>1294.199951</td>\n",
       "      <td>1275.300049</td>\n",
       "      <td>1294.199951</td>\n",
       "      <td>34</td>\n",
       "    </tr>\n",
       "    <tr>\n",
       "      <th>2019-01-07 00:00:00+00:00</th>\n",
       "      <td>1286.800049</td>\n",
       "      <td>1286.800049</td>\n",
       "      <td>1286.800049</td>\n",
       "      <td>1286.599976</td>\n",
       "      <td>1286.800049</td>\n",
       "      <td>2</td>\n",
       "    </tr>\n",
       "    <tr>\n",
       "      <th>2019-01-08 00:00:00+00:00</th>\n",
       "      <td>1283.199951</td>\n",
       "      <td>1283.199951</td>\n",
       "      <td>1283.199951</td>\n",
       "      <td>1278.199951</td>\n",
       "      <td>1280.500000</td>\n",
       "      <td>54</td>\n",
       "    </tr>\n",
       "    <tr>\n",
       "      <th>...</th>\n",
       "      <td>...</td>\n",
       "      <td>...</td>\n",
       "      <td>...</td>\n",
       "      <td>...</td>\n",
       "      <td>...</td>\n",
       "      <td>...</td>\n",
       "    </tr>\n",
       "    <tr>\n",
       "      <th>2024-10-30 00:00:00+00:00</th>\n",
       "      <td>2788.500000</td>\n",
       "      <td>2788.500000</td>\n",
       "      <td>2789.000000</td>\n",
       "      <td>2774.600098</td>\n",
       "      <td>2774.600098</td>\n",
       "      <td>231</td>\n",
       "    </tr>\n",
       "    <tr>\n",
       "      <th>2024-10-31 00:00:00+00:00</th>\n",
       "      <td>2738.300049</td>\n",
       "      <td>2738.300049</td>\n",
       "      <td>2787.500000</td>\n",
       "      <td>2733.500000</td>\n",
       "      <td>2787.399902</td>\n",
       "      <td>849</td>\n",
       "    </tr>\n",
       "    <tr>\n",
       "      <th>2024-11-01 00:00:00+00:00</th>\n",
       "      <td>2738.600098</td>\n",
       "      <td>2738.600098</td>\n",
       "      <td>2756.000000</td>\n",
       "      <td>2734.199951</td>\n",
       "      <td>2745.500000</td>\n",
       "      <td>109</td>\n",
       "    </tr>\n",
       "    <tr>\n",
       "      <th>2024-11-04 00:00:00+00:00</th>\n",
       "      <td>2736.100098</td>\n",
       "      <td>2736.100098</td>\n",
       "      <td>2737.100098</td>\n",
       "      <td>2736.100098</td>\n",
       "      <td>2736.500000</td>\n",
       "      <td>16</td>\n",
       "    </tr>\n",
       "    <tr>\n",
       "      <th>2024-11-05 00:00:00+00:00</th>\n",
       "      <td>2740.300049</td>\n",
       "      <td>2740.300049</td>\n",
       "      <td>2743.899902</td>\n",
       "      <td>2740.300049</td>\n",
       "      <td>2743.000000</td>\n",
       "      <td>16</td>\n",
       "    </tr>\n",
       "  </tbody>\n",
       "</table>\n",
       "<p>1472 rows × 6 columns</p>\n",
       "</div>"
      ],
      "text/plain": [
       "Price                        Adj Close        Close         High          Low  \\\n",
       "Ticker                            GC=F         GC=F         GC=F         GC=F   \n",
       "Date                                                                            \n",
       "2019-01-02 00:00:00+00:00  1281.000000  1281.000000  1286.000000  1277.599976   \n",
       "2019-01-03 00:00:00+00:00  1291.800049  1291.800049  1292.000000  1286.699951   \n",
       "2019-01-04 00:00:00+00:00  1282.699951  1282.699951  1294.199951  1275.300049   \n",
       "2019-01-07 00:00:00+00:00  1286.800049  1286.800049  1286.800049  1286.599976   \n",
       "2019-01-08 00:00:00+00:00  1283.199951  1283.199951  1283.199951  1278.199951   \n",
       "...                                ...          ...          ...          ...   \n",
       "2024-10-30 00:00:00+00:00  2788.500000  2788.500000  2789.000000  2774.600098   \n",
       "2024-10-31 00:00:00+00:00  2738.300049  2738.300049  2787.500000  2733.500000   \n",
       "2024-11-01 00:00:00+00:00  2738.600098  2738.600098  2756.000000  2734.199951   \n",
       "2024-11-04 00:00:00+00:00  2736.100098  2736.100098  2737.100098  2736.100098   \n",
       "2024-11-05 00:00:00+00:00  2740.300049  2740.300049  2743.899902  2740.300049   \n",
       "\n",
       "Price                             Open Volume  \n",
       "Ticker                            GC=F   GC=F  \n",
       "Date                                           \n",
       "2019-01-02 00:00:00+00:00  1286.000000    149  \n",
       "2019-01-03 00:00:00+00:00  1286.800049     10  \n",
       "2019-01-04 00:00:00+00:00  1294.199951     34  \n",
       "2019-01-07 00:00:00+00:00  1286.800049      2  \n",
       "2019-01-08 00:00:00+00:00  1280.500000     54  \n",
       "...                                ...    ...  \n",
       "2024-10-30 00:00:00+00:00  2774.600098    231  \n",
       "2024-10-31 00:00:00+00:00  2787.399902    849  \n",
       "2024-11-01 00:00:00+00:00  2745.500000    109  \n",
       "2024-11-04 00:00:00+00:00  2736.500000     16  \n",
       "2024-11-05 00:00:00+00:00  2743.000000     16  \n",
       "\n",
       "[1472 rows x 6 columns]"
      ]
     },
     "execution_count": 12,
     "metadata": {},
     "output_type": "execute_result"
    }
   ],
   "source": [
    "import yfinance as yf\n",
    "\n",
    "df = yf.download(tickers = \"GC=F\", start=\"2019-01-01\", end=\"2024-11-6\", interval='1d')\n",
    "df\n"
   ]
  },
  {
   "cell_type": "code",
   "execution_count": null,
   "metadata": {},
   "outputs": [],
   "source": [
    "df.to_csv('C:/HK1/PTTK/new/-STAT3013.-P12_Nhom2-/dataset/gc=f.csv')"
   ]
  },
  {
   "cell_type": "code",
   "execution_count": 14,
   "metadata": {},
   "outputs": [],
   "source": [
    "df = pd.read_csv('gc=f.csv')"
   ]
  },
  {
   "cell_type": "code",
   "execution_count": 15,
   "metadata": {},
   "outputs": [],
   "source": [
    "# Convert the \"Date\" column to a datetime format and remove the time component\n",
    "df['Date'] = pd.to_datetime(df['Date']).dt.date"
   ]
  },
  {
   "cell_type": "code",
   "execution_count": 19,
   "metadata": {},
   "outputs": [],
   "source": [
    "df.to_csv('C:/HK1/PTTK/new/-STAT3013.-P12_Nhom2-/dataset/cleaned_gc=f.csv')"
   ]
  },
  {
   "cell_type": "code",
   "execution_count": 1,
   "metadata": {},
   "outputs": [
    {
     "ename": "NameError",
     "evalue": "name 'df' is not defined",
     "output_type": "error",
     "traceback": [
      "\u001b[1;31m---------------------------------------------------------------------------\u001b[0m",
      "\u001b[1;31mNameError\u001b[0m                                 Traceback (most recent call last)",
      "Cell \u001b[1;32mIn[1], line 1\u001b[0m\n\u001b[1;32m----> 1\u001b[0m \u001b[43mdf\u001b[49m\n",
      "\u001b[1;31mNameError\u001b[0m: name 'df' is not defined"
     ]
    }
   ],
   "source": [
    "df"
   ]
  },
  {
   "cell_type": "code",
   "execution_count": null,
   "metadata": {},
   "outputs": [],
   "source": []
  }
 ],
 "metadata": {
  "kernelspec": {
   "display_name": "base",
   "language": "python",
   "name": "python3"
  },
  "language_info": {
   "codemirror_mode": {
    "name": "ipython",
    "version": 3
   },
   "file_extension": ".py",
   "mimetype": "text/x-python",
   "name": "python",
   "nbconvert_exporter": "python",
   "pygments_lexer": "ipython3",
   "version": "3.12.7"
  }
 },
 "nbformat": 4,
 "nbformat_minor": 2
}
