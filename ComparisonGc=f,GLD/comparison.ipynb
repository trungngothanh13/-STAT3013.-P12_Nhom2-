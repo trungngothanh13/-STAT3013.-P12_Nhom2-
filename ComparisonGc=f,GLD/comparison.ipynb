{
 "cells": [
  {
   "cell_type": "code",
   "execution_count": 3,
   "metadata": {},
   "outputs": [],
   "source": [
    "import pandas as pd\n",
    "import numpy as np\n",
    "\n",
    "# Load the data files\n",
    "gc_data_path = '../dataset/cleaned_gc=f.csv'\n",
    "gld_data_path = '../dataset/cleaned_GLD.csv'\n",
    "\n",
    "gc_data = pd.read_csv(gc_data_path)\n",
    "gld_data = pd.read_csv(gld_data_path)\n"
   ]
  },
  {
   "cell_type": "code",
   "execution_count": 4,
   "metadata": {},
   "outputs": [],
   "source": [
    "# Convert the 'Date' column to datetime format\n",
    "gc_data['Date'] = pd.to_datetime(gc_data['Date'])\n",
    "gld_data['Date'] = pd.to_datetime(gld_data['Date'])\n",
    "\n",
    "# Sort data by date\n",
    "gc_data = gc_data.sort_values('Date')\n",
    "gld_data = gld_data.sort_values('Date')\n",
    "\n",
    "# Merge the datasets on 'Date' for direct comparison\n",
    "merged_data = pd.merge(gc_data[['Date', 'Close']], gld_data[['Date', 'Close']], on='Date', suffixes=('_GC', '_GLD'))\n"
   ]
  },
  {
   "cell_type": "code",
   "execution_count": 5,
   "metadata": {},
   "outputs": [],
   "source": [
    "# Calculate daily price changes for the 'Close' column\n",
    "merged_data['Change_Close_GC'] = merged_data['Close_GC'].pct_change() * 100\n",
    "merged_data['Change_Close_GLD'] = merged_data['Close_GLD'].pct_change() * 100\n"
   ]
  },
  {
   "cell_type": "code",
   "execution_count": 6,
   "metadata": {},
   "outputs": [],
   "source": [
    "# Calculate volatility (standard deviation of percentage changes in 'Close')\n",
    "volatility_close_gc = np.std(merged_data['Change_Close_GC'])\n",
    "volatility_close_gld = np.std(merged_data['Change_Close_GLD'])\n",
    "\n",
    "# Calculate average percentage change for 'Close'\n",
    "average_change_close_gc = np.mean(merged_data['Change_Close_GC'])\n",
    "average_change_close_gld = np.mean(merged_data['Change_Close_GLD'])\n",
    "\n",
    "# Calculate correlation between the two percentage changes in 'Close'\n",
    "correlation_close = merged_data['Change_Close_GC'].corr(merged_data['Change_Close_GLD'])\n"
   ]
  },
  {
   "cell_type": "code",
   "execution_count": 9,
   "metadata": {},
   "outputs": [
    {
     "name": "stdout",
     "output_type": "stream",
     "text": [
      "Metrics for Close Prices of GC=F and GLD:\n",
      "               Metric  GC=F (Close)  GLD (Close)\n",
      "0      Volatility (%)      0.973911     0.934669\n",
      "1  Average Change (%)      0.056455     0.054451\n",
      "2         Correlation      0.905174     0.905174\n"
     ]
    }
   ],
   "source": [
    "# Prepare results\n",
    "summary_close = {\n",
    "    \"Metric\": [\"Volatility (%)\", \"Average Change (%)\", \"Correlation\"],\n",
    "    \"GC=F (Close)\": [volatility_close_gc, average_change_close_gc, correlation_close],\n",
    "    \"GLD (Close)\": [volatility_close_gld, average_change_close_gld, correlation_close]\n",
    "}\n",
    "\n",
    "comparison_df_close = pd.DataFrame(summary_close)\n",
    "\n",
    "# Display the results\n",
    "print(\"Metrics for Close Prices of GC=F and GLD:\")\n",
    "print(comparison_df_close)\n"
   ]
  },
  {
   "cell_type": "code",
   "execution_count": null,
   "metadata": {},
   "outputs": [],
   "source": []
  }
 ],
 "metadata": {
  "kernelspec": {
   "display_name": "base",
   "language": "python",
   "name": "python3"
  },
  "language_info": {
   "codemirror_mode": {
    "name": "ipython",
    "version": 3
   },
   "file_extension": ".py",
   "mimetype": "text/x-python",
   "name": "python",
   "nbconvert_exporter": "python",
   "pygments_lexer": "ipython3",
   "version": "3.12.7"
  }
 },
 "nbformat": 4,
 "nbformat_minor": 2
}
